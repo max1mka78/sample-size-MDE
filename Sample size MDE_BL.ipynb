{
 "cells": [
  {
   "cell_type": "code",
   "execution_count": 1,
   "id": "8c6b4338-1f6c-403c-a885-6d4617fa84ba",
   "metadata": {
    "tags": []
   },
   "outputs": [],
   "source": [
    "import pandahouse \n",
    "import pandas as pd\n",
    "import scipy.stats as stats \n",
    "from scipy.stats import norm, ttest_ind\n",
    "import numpy as np\n",
    "import seaborn as sns\n",
    "import matplotlib.pyplot as plt\n",
    "%matplotlib inline\n",
    "import hashlib # Делать хеши\n",
    "import swifter # Для ускорения метода apply\n",
    "from tqdm import tqdm # Для отслеживания прогресса"
   ]
  },
  {
   "cell_type": "code",
   "execution_count": 2,
   "id": "a9243a7b-5936-4660-b4e3-7cc67a539a95",
   "metadata": {},
   "outputs": [],
   "source": [
    "#создаём генератор псевдослучайных чисел\n",
    "rng = np.random.default_rng()"
   ]
  },
  {
   "cell_type": "markdown",
   "id": "e07edf07-32fe-4085-9b3d-775196ad3dfd",
   "metadata": {},
   "source": [
    "<b>Задача"
   ]
  },
  {
   "cell_type": "markdown",
   "id": "3bea80ef-c9dd-4e76-a07e-6af609689403",
   "metadata": {},
   "source": [
    "<b>К нам пришли наши коллеги из ML-отдела и рассказали, что планируют выкатывать новый алгоритм, рекомендующий нашим пользователям интересные посты. После обсуждений того, как он это делает, можно сделать следующие выводы:\n",
    "\n",
    "<b>1.Алгоритм добавляет пользователям 1-2 просмотра\n",
    "    \n",
    "<b>2.Вероятность того, что он сработает, составляет 90%\n",
    "    \n",
    "<b>3.Если у пользователя меньше 50 просмотров, то алгоритм не сработает"
   ]
  },
  {
   "cell_type": "markdown",
   "id": "7c640620-9147-4278-b085-e7bb82446be4",
   "metadata": {},
   "source": [
    "Гипотеза: увеличение числа просмотров (views) приведёт и к увеличению лайков (likes) на пользователя. \n",
    "\n",
    "Можем ли мы обнаружить различия в среднем количестве лайков на пользователя? \n",
    "Для этого необходимо провести симуляцию Монте-Карло."
   ]
  },
  {
   "cell_type": "markdown",
   "id": "758862a6-daea-47ca-8ca4-8909edceec19",
   "metadata": {},
   "source": [
    "- Распределения, из которых мы будем симулировать просмотры и пользовательские CTR, мы построим на основе периода АА-теста (c '2025-03-21' по '2025-03-27'), когда новый алгоритм еще не применялся. Это исторические данные."
   ]
  },
  {
   "cell_type": "code",
   "execution_count": 3,
   "id": "66f2bcd6-ad3d-4632-b3ad-37449b0a40ee",
   "metadata": {},
   "outputs": [],
   "source": [
    "connection = {\n",
    "    'host': 'https://clickhouse.lab.karpov.courses',\n",
    "    'password': 'dpo_python_2020',\n",
    "    'user': 'student',\n",
    "    'database': 'simulator_20250520'\n",
    "}"
   ]
  },
  {
   "cell_type": "markdown",
   "id": "d6a92cbc-69cc-48a5-bd2e-c1be5f5cc3f3",
   "metadata": {},
   "source": [
    "<b>Определяем базовые исторические уровни метрик - просмотров views и CTR - и их p-распределение"
   ]
  },
  {
   "cell_type": "markdown",
   "id": "df607caa-6a5d-404b-8377-68be68dac73e",
   "metadata": {},
   "source": [
    "<b>Распределение просмотров"
   ]
  },
  {
   "cell_type": "code",
   "execution_count": 4,
   "id": "0d6da655-42b0-4e4b-a8fa-5351295cb270",
   "metadata": {},
   "outputs": [],
   "source": [
    "#Просмотры views на 1 пользователя в течение недели\n",
    "\n",
    "q = \"\"\"\n",
    "SELECT views, count() as users\n",
    "FROM\n",
    "(SELECT  \n",
    "    user_id,\n",
    "    sum(action = 'view') as views\n",
    "FROM {db}.feed_actions\n",
    "WHERE toDate(time) between '2025-05-02' AND '2025-05-08'\n",
    "GROUP BY user_id\n",
    ")\n",
    "GROUP BY views\n",
    "\"\"\"\n",
    "\n",
    "views_distribution = pandahouse.read_clickhouse(q, connection=connection)"
   ]
  },
  {
   "cell_type": "code",
   "execution_count": 5,
   "id": "db4a3314-7d3b-4f53-bb14-e32b3e25071d",
   "metadata": {},
   "outputs": [
    {
     "data": {
      "text/html": [
       "<div>\n",
       "<style scoped>\n",
       "    .dataframe tbody tr th:only-of-type {\n",
       "        vertical-align: middle;\n",
       "    }\n",
       "\n",
       "    .dataframe tbody tr th {\n",
       "        vertical-align: top;\n",
       "    }\n",
       "\n",
       "    .dataframe thead th {\n",
       "        text-align: right;\n",
       "    }\n",
       "</style>\n",
       "<table border=\"1\" class=\"dataframe\">\n",
       "  <thead>\n",
       "    <tr style=\"text-align: right;\">\n",
       "      <th></th>\n",
       "      <th>views</th>\n",
       "      <th>users</th>\n",
       "    </tr>\n",
       "  </thead>\n",
       "  <tbody>\n",
       "    <tr>\n",
       "      <th>0</th>\n",
       "      <td>198</td>\n",
       "      <td>24</td>\n",
       "    </tr>\n",
       "    <tr>\n",
       "      <th>1</th>\n",
       "      <td>116</td>\n",
       "      <td>171</td>\n",
       "    </tr>\n",
       "    <tr>\n",
       "      <th>2</th>\n",
       "      <td>294</td>\n",
       "      <td>1</td>\n",
       "    </tr>\n",
       "    <tr>\n",
       "      <th>3</th>\n",
       "      <td>66</td>\n",
       "      <td>393</td>\n",
       "    </tr>\n",
       "    <tr>\n",
       "      <th>4</th>\n",
       "      <td>272</td>\n",
       "      <td>4</td>\n",
       "    </tr>\n",
       "  </tbody>\n",
       "</table>\n",
       "</div>"
      ],
      "text/plain": [
       "   views  users\n",
       "0    198     24\n",
       "1    116    171\n",
       "2    294      1\n",
       "3     66    393\n",
       "4    272      4"
      ]
     },
     "execution_count": 5,
     "metadata": {},
     "output_type": "execute_result"
    }
   ],
   "source": [
    "views_distribution.head()"
   ]
  },
  {
   "cell_type": "code",
   "execution_count": 6,
   "id": "4fef2a43-50a4-46d9-af43-dc942c974765",
   "metadata": {},
   "outputs": [
    {
     "data": {
      "text/plain": [
       "49814"
      ]
     },
     "execution_count": 6,
     "metadata": {},
     "output_type": "execute_result"
    }
   ],
   "source": [
    "#общее количество пользователей\n",
    "views_distribution.users.sum()"
   ]
  },
  {
   "cell_type": "code",
   "execution_count": 7,
   "id": "e5cd5ec5-1b24-418b-aff2-c6f72a58e479",
   "metadata": {},
   "outputs": [],
   "source": [
    "#нормируем на общее число всех пользователей, получаем вероятность этого значения\n",
    "views_distribution['p'] = views_distribution['users']/views_distribution.users.sum()"
   ]
  },
  {
   "cell_type": "code",
   "execution_count": 8,
   "id": "106b5476-2596-4288-9cb4-859ad04307ee",
   "metadata": {},
   "outputs": [
    {
     "data": {
      "text/html": [
       "<div>\n",
       "<style scoped>\n",
       "    .dataframe tbody tr th:only-of-type {\n",
       "        vertical-align: middle;\n",
       "    }\n",
       "\n",
       "    .dataframe tbody tr th {\n",
       "        vertical-align: top;\n",
       "    }\n",
       "\n",
       "    .dataframe thead th {\n",
       "        text-align: right;\n",
       "    }\n",
       "</style>\n",
       "<table border=\"1\" class=\"dataframe\">\n",
       "  <thead>\n",
       "    <tr style=\"text-align: right;\">\n",
       "      <th></th>\n",
       "      <th>views</th>\n",
       "      <th>users</th>\n",
       "      <th>p</th>\n",
       "    </tr>\n",
       "  </thead>\n",
       "  <tbody>\n",
       "    <tr>\n",
       "      <th>119</th>\n",
       "      <td>14</td>\n",
       "      <td>637</td>\n",
       "      <td>0.012788</td>\n",
       "    </tr>\n",
       "    <tr>\n",
       "      <th>59</th>\n",
       "      <td>16</td>\n",
       "      <td>616</td>\n",
       "      <td>0.012366</td>\n",
       "    </tr>\n",
       "    <tr>\n",
       "      <th>52</th>\n",
       "      <td>15</td>\n",
       "      <td>606</td>\n",
       "      <td>0.012165</td>\n",
       "    </tr>\n",
       "    <tr>\n",
       "      <th>137</th>\n",
       "      <td>33</td>\n",
       "      <td>602</td>\n",
       "      <td>0.012085</td>\n",
       "    </tr>\n",
       "    <tr>\n",
       "      <th>199</th>\n",
       "      <td>34</td>\n",
       "      <td>597</td>\n",
       "      <td>0.011985</td>\n",
       "    </tr>\n",
       "    <tr>\n",
       "      <th>...</th>\n",
       "      <td>...</td>\n",
       "      <td>...</td>\n",
       "      <td>...</td>\n",
       "    </tr>\n",
       "    <tr>\n",
       "      <th>198</th>\n",
       "      <td>282</td>\n",
       "      <td>1</td>\n",
       "      <td>0.000020</td>\n",
       "    </tr>\n",
       "    <tr>\n",
       "      <th>203</th>\n",
       "      <td>326</td>\n",
       "      <td>1</td>\n",
       "      <td>0.000020</td>\n",
       "    </tr>\n",
       "    <tr>\n",
       "      <th>245</th>\n",
       "      <td>336</td>\n",
       "      <td>1</td>\n",
       "      <td>0.000020</td>\n",
       "    </tr>\n",
       "    <tr>\n",
       "      <th>248</th>\n",
       "      <td>277</td>\n",
       "      <td>1</td>\n",
       "      <td>0.000020</td>\n",
       "    </tr>\n",
       "    <tr>\n",
       "      <th>302</th>\n",
       "      <td>308</td>\n",
       "      <td>1</td>\n",
       "      <td>0.000020</td>\n",
       "    </tr>\n",
       "  </tbody>\n",
       "</table>\n",
       "<p>303 rows × 3 columns</p>\n",
       "</div>"
      ],
      "text/plain": [
       "     views  users         p\n",
       "119     14    637  0.012788\n",
       "59      16    616  0.012366\n",
       "52      15    606  0.012165\n",
       "137     33    602  0.012085\n",
       "199     34    597  0.011985\n",
       "..     ...    ...       ...\n",
       "198    282      1  0.000020\n",
       "203    326      1  0.000020\n",
       "245    336      1  0.000020\n",
       "248    277      1  0.000020\n",
       "302    308      1  0.000020\n",
       "\n",
       "[303 rows x 3 columns]"
      ]
     },
     "execution_count": 8,
     "metadata": {},
     "output_type": "execute_result"
    }
   ],
   "source": [
    "views_distribution.sort_values(by = 'p', ascending = False)"
   ]
  },
  {
   "cell_type": "code",
   "execution_count": 9,
   "id": "4d0ec0f4",
   "metadata": {},
   "outputs": [
    {
     "name": "stdout",
     "output_type": "stream",
     "text": [
      "Сумма вероятностей p: 1.0\n"
     ]
    }
   ],
   "source": [
    "sum_p = views_distribution['p'].sum()\n",
    "print(f\"Сумма вероятностей p: {sum_p}\")"
   ]
  },
  {
   "cell_type": "code",
   "execution_count": 10,
   "id": "5ad09608-e741-4b48-b9d7-0452248e694b",
   "metadata": {},
   "outputs": [],
   "source": [
    "#Наше настоящее распределение просмотров (до применения алгоритма) сделаем дискретным.\n",
    "views_distr = stats.rv_discrete(name='views_distr', \n",
    "                                values=(views_distribution['views'], \n",
    "                                        views_distribution['p']))"
   ]
  },
  {
   "cell_type": "code",
   "execution_count": 11,
   "id": "9fccce6b",
   "metadata": {},
   "outputs": [
    {
     "data": {
      "text/plain": [
       "<scipy.stats._distn_infrastructure.rv_sample at 0x7f364962a970>"
      ]
     },
     "execution_count": 11,
     "metadata": {},
     "output_type": "execute_result"
    }
   ],
   "source": [
    "views_distr"
   ]
  },
  {
   "cell_type": "code",
   "execution_count": 12,
   "id": "a1634267-1e68-47ab-9a26-72afbfca7594",
   "metadata": {},
   "outputs": [
    {
     "data": {
      "text/plain": [
       "67.11753723852732"
      ]
     },
     "execution_count": 12,
     "metadata": {},
     "output_type": "execute_result"
    }
   ],
   "source": [
    "#cреднее число просмотров = 70\n",
    "views_distr.mean()"
   ]
  },
  {
   "cell_type": "code",
   "execution_count": 13,
   "id": "c4cf069f-f85b-4a27-b63a-0de4f2db55b0",
   "metadata": {},
   "outputs": [
    {
     "data": {
      "text/plain": [
       "65.492"
      ]
     },
     "execution_count": 13,
     "metadata": {},
     "output_type": "execute_result"
    }
   ],
   "source": [
    "#среднее число просмотров по сгенерированной выборке при размере 100 = 75 - выше, при 1000 - 71,8 - уже лучше\n",
    "views_distr.rvs(size = 1000).mean() "
   ]
  },
  {
   "cell_type": "code",
   "execution_count": 14,
   "id": "9c9e0c44-1922-4c1d-855f-0a6fd2523a85",
   "metadata": {},
   "outputs": [
    {
     "data": {
      "text/plain": [
       "57.0"
      ]
     },
     "execution_count": 14,
     "metadata": {},
     "output_type": "execute_result"
    }
   ],
   "source": [
    "#медиана просмотров = 60\n",
    "views_distr.median()"
   ]
  },
  {
   "cell_type": "code",
   "execution_count": 15,
   "id": "cd9da280-6f6e-4c5d-a54b-86170b3419a9",
   "metadata": {},
   "outputs": [
    {
     "data": {
      "text/plain": [
       "45.637087804362665"
      ]
     },
     "execution_count": 15,
     "metadata": {},
     "output_type": "execute_result"
    }
   ],
   "source": [
    "#стандартное отклонение = 46,8\n",
    "views_distr.std()"
   ]
  },
  {
   "cell_type": "code",
   "execution_count": 16,
   "id": "1b757049-a426-4cf2-88a3-74c6bb4a2da8",
   "metadata": {},
   "outputs": [
    {
     "data": {
      "text/plain": [
       "<Axes: ylabel='Count'>"
      ]
     },
     "execution_count": 16,
     "metadata": {},
     "output_type": "execute_result"
    },
    {
     "data": {
      "image/png": "[encoded data removed]",
      "text/plain": [
       "<Figure size 432x288 with 1 Axes>"
      ]
     },
     "metadata": {
      "needs_background": "light"
     },
     "output_type": "display_data"
    }
   ],
   "source": [
    "#Построим гистограмму просмотров\n",
    "sns.histplot(views_distr.rvs(size=2000))"
   ]
  },
  {
   "cell_type": "markdown",
   "id": "1ce7bf2c-f729-4b84-ba36-c5f44b2dedf3",
   "metadata": {},
   "source": [
    "У нас есть ограничение по количеству просмотров, когда новый алгоритм не будет работать - 50 просмотров. Судя по гистограмме, под ограничение попадает большое число пользователей (максимальные частоты сосредоточены на малых значениях просмотров)."
   ]
  },
  {
   "cell_type": "markdown",
   "id": "5034778c-0677-4894-9073-9893323d38ea",
   "metadata": {},
   "source": [
    "<b>Распределение CTR"
   ]
  },
  {
   "cell_type": "code",
   "execution_count": 17,
   "id": "fef2f334-2874-4afa-97a9-57ecb3376099",
   "metadata": {},
   "outputs": [],
   "source": [
    "#CTR за неделю\n",
    "\n",
    "q = \"\"\"\n",
    "select \n",
    "   floor(ctr, 2) as ctr, count() as users\n",
    "from (select toDate(time) as dt, \n",
    "    exp_group,\n",
    "    user_id,\n",
    "    sum(action = 'like')/sum(action = 'view') as ctr\n",
    "from {db}.feed_actions\n",
    "where dt between '2025-05-02' AND '2025-05-08'\n",
    "group by dt, exp_group, user_id\n",
    ")\n",
    "group by ctr\n",
    "\"\"\"\n",
    "ctr_distribution = pandahouse.read_clickhouse(q, connection=connection)"
   ]
  },
  {
   "cell_type": "code",
   "execution_count": 18,
   "id": "c1571b46",
   "metadata": {},
   "outputs": [
    {
     "name": "stdout",
     "output_type": "stream",
     "text": [
      "Есть ли бесконечные значения (inf): True\n"
     ]
    }
   ],
   "source": [
    "has_inf = np.isinf(ctr_distribution['ctr']).any()\n",
    "print(f\"Есть ли бесконечные значения (inf): {has_inf}\")"
   ]
  },
  {
   "cell_type": "code",
   "execution_count": 19,
   "id": "e42cfbdf",
   "metadata": {},
   "outputs": [
    {
     "data": {
      "text/plain": [
       "0     2033\n",
       "1        5\n",
       "2       29\n",
       "3        9\n",
       "4      111\n",
       "      ... \n",
       "86     156\n",
       "87    3789\n",
       "88     438\n",
       "89      92\n",
       "90    2959\n",
       "Name: users, Length: 91, dtype: uint64"
      ]
     },
     "execution_count": 19,
     "metadata": {},
     "output_type": "execute_result"
    }
   ],
   "source": [
    "ctr_distribution['users']"
   ]
  },
  {
   "cell_type": "code",
   "execution_count": 20,
   "id": "7dfdbace",
   "metadata": {},
   "outputs": [
    {
     "data": {
      "text/plain": [
       "96338"
      ]
     },
     "execution_count": 20,
     "metadata": {},
     "output_type": "execute_result"
    }
   ],
   "source": [
    "ctr_distribution.users.sum()"
   ]
  },
  {
   "cell_type": "code",
   "execution_count": 21,
   "id": "803e5e89-5aea-4b87-95f6-e3eb51b1df96",
   "metadata": {},
   "outputs": [],
   "source": [
    "#нормируем на общее число всех пользователей - получаем вероятность этого значения\n",
    "ctr_distribution['p'] = ctr_distribution['users']/ctr_distribution.users.sum()"
   ]
  },
  {
   "cell_type": "code",
   "execution_count": 22,
   "id": "0c15c925-b63f-4540-bcf1-eb49dc529a80",
   "metadata": {},
   "outputs": [
    {
     "data": {
      "text/html": [
       "<div>\n",
       "<style scoped>\n",
       "    .dataframe tbody tr th:only-of-type {\n",
       "        vertical-align: middle;\n",
       "    }\n",
       "\n",
       "    .dataframe tbody tr th {\n",
       "        vertical-align: top;\n",
       "    }\n",
       "\n",
       "    .dataframe thead th {\n",
       "        text-align: right;\n",
       "    }\n",
       "</style>\n",
       "<table border=\"1\" class=\"dataframe\">\n",
       "  <thead>\n",
       "    <tr style=\"text-align: right;\">\n",
       "      <th></th>\n",
       "      <th>ctr</th>\n",
       "      <th>users</th>\n",
       "      <th>p</th>\n",
       "    </tr>\n",
       "  </thead>\n",
       "  <tbody>\n",
       "    <tr>\n",
       "      <th>21</th>\n",
       "      <td>0.20</td>\n",
       "      <td>4977</td>\n",
       "      <td>0.051662</td>\n",
       "    </tr>\n",
       "    <tr>\n",
       "      <th>57</th>\n",
       "      <td>0.25</td>\n",
       "      <td>4298</td>\n",
       "      <td>0.044614</td>\n",
       "    </tr>\n",
       "    <tr>\n",
       "      <th>39</th>\n",
       "      <td>0.16</td>\n",
       "      <td>4111</td>\n",
       "      <td>0.042673</td>\n",
       "    </tr>\n",
       "    <tr>\n",
       "      <th>6</th>\n",
       "      <td>0.18</td>\n",
       "      <td>4015</td>\n",
       "      <td>0.041676</td>\n",
       "    </tr>\n",
       "    <tr>\n",
       "      <th>83</th>\n",
       "      <td>0.21</td>\n",
       "      <td>3799</td>\n",
       "      <td>0.039434</td>\n",
       "    </tr>\n",
       "    <tr>\n",
       "      <th>...</th>\n",
       "      <td>...</td>\n",
       "      <td>...</td>\n",
       "      <td>...</td>\n",
       "    </tr>\n",
       "    <tr>\n",
       "      <th>69</th>\n",
       "      <td>0.74</td>\n",
       "      <td>1</td>\n",
       "      <td>0.000010</td>\n",
       "    </tr>\n",
       "    <tr>\n",
       "      <th>9</th>\n",
       "      <td>0.91</td>\n",
       "      <td>1</td>\n",
       "      <td>0.000010</td>\n",
       "    </tr>\n",
       "    <tr>\n",
       "      <th>58</th>\n",
       "      <td>0.95</td>\n",
       "      <td>1</td>\n",
       "      <td>0.000010</td>\n",
       "    </tr>\n",
       "    <tr>\n",
       "      <th>47</th>\n",
       "      <td>0.87</td>\n",
       "      <td>1</td>\n",
       "      <td>0.000010</td>\n",
       "    </tr>\n",
       "    <tr>\n",
       "      <th>30</th>\n",
       "      <td>0.85</td>\n",
       "      <td>1</td>\n",
       "      <td>0.000010</td>\n",
       "    </tr>\n",
       "  </tbody>\n",
       "</table>\n",
       "<p>91 rows × 3 columns</p>\n",
       "</div>"
      ],
      "text/plain": [
       "     ctr  users         p\n",
       "21  0.20   4977  0.051662\n",
       "57  0.25   4298  0.044614\n",
       "39  0.16   4111  0.042673\n",
       "6   0.18   4015  0.041676\n",
       "83  0.21   3799  0.039434\n",
       "..   ...    ...       ...\n",
       "69  0.74      1  0.000010\n",
       "9   0.91      1  0.000010\n",
       "58  0.95      1  0.000010\n",
       "47  0.87      1  0.000010\n",
       "30  0.85      1  0.000010\n",
       "\n",
       "[91 rows x 3 columns]"
      ]
     },
     "execution_count": 22,
     "metadata": {},
     "output_type": "execute_result"
    }
   ],
   "source": [
    "ctr_distribution.sort_values(by = 'p', ascending = False)"
   ]
  },
  {
   "cell_type": "code",
   "execution_count": 23,
   "id": "d9bd38d8-1353-4e18-b08d-fb10270ab187",
   "metadata": {},
   "outputs": [
    {
     "data": {
      "text/plain": [
       "0     0.021103\n",
       "1     0.000052\n",
       "2     0.000301\n",
       "3     0.000093\n",
       "4     0.001152\n",
       "        ...   \n",
       "86    0.001619\n",
       "87    0.039330\n",
       "88    0.004546\n",
       "89    0.000955\n",
       "90    0.030715\n",
       "Name: p, Length: 91, dtype: float64"
      ]
     },
     "execution_count": 23,
     "metadata": {},
     "output_type": "execute_result"
    }
   ],
   "source": [
    "ctr_distribution['p']"
   ]
  },
  {
   "cell_type": "code",
   "execution_count": 24,
   "id": "c8761dc7",
   "metadata": {},
   "outputs": [
    {
     "name": "stdout",
     "output_type": "stream",
     "text": [
      "Сумма вероятностей p: 1.0\n"
     ]
    }
   ],
   "source": [
    "sum_p = ctr_distribution['p'].sum()\n",
    "print(f\"Сумма вероятностей p: {sum_p}\")"
   ]
  },
  {
   "cell_type": "code",
   "execution_count": 25,
   "id": "35d0168a-115f-4b13-ba8a-6870478d0d70",
   "metadata": {},
   "outputs": [],
   "source": [
    "#Наше настоящее распределение CTR до применения алгоритма сделаем дискретным\n",
    "ctr_distr = stats.rv_discrete(name='ctr_distr', \n",
    "                                values=(ctr_distribution['ctr'], \n",
    "                                        ctr_distribution['p']))"
   ]
  },
  {
   "cell_type": "code",
   "execution_count": 26,
   "id": "076c2986",
   "metadata": {},
   "outputs": [
    {
     "data": {
      "text/plain": [
       "<Axes: ylabel='Count'>"
      ]
     },
     "execution_count": 26,
     "metadata": {},
     "output_type": "execute_result"
    },
    {
     "data": {
      "image/png": "[encoded data removed]",
      "text/plain": [
       "<Figure size 432x288 with 1 Axes>"
      ]
     },
     "metadata": {
      "needs_background": "light"
     },
     "output_type": "display_data"
    }
   ],
   "source": [
    "sns.histplot(views_distr.rvs(size=2000))"
   ]
  },
  {
   "cell_type": "code",
   "execution_count": 27,
   "id": "46acf4fe-15f9-4ad2-aaef-d50abe983f7b",
   "metadata": {},
   "outputs": [
    {
     "data": {
      "text/plain": [
       "67.11753723852732"
      ]
     },
     "execution_count": 27,
     "metadata": {},
     "output_type": "execute_result"
    }
   ],
   "source": [
    "views_distr.mean() "
   ]
  },
  {
   "cell_type": "markdown",
   "id": "2545770d-b721-471f-8c99-97c788478029",
   "metadata": {},
   "source": [
    "<b>- На эксперимент нам выделили неделю. Допустим, что за эту неделю в наш сервис зайдёт столько же пользователей, сколько зашло в период АА-теста (c 2025-03-21 по 2025-03-27). \n",
    "Мы планируем разбивать пользователей на две группы в соотношении 50/50. \n",
    "Посчитайте, сколько пользователей в таком случае придётся на одну группу."
   ]
  },
  {
   "cell_type": "code",
   "execution_count": 28,
   "id": "0c71597b-7ad1-40ac-9c8b-0c8c725d0090",
   "metadata": {},
   "outputs": [],
   "source": [
    "#Посмотрим число пользователей за неделю (время AA-теста)\n",
    "q = \"\"\"\n",
    "SELECT  \n",
    "    count(distinct(user_id)) \n",
    "FROM {db}.feed_actions\n",
    "WHERE toDate(time) between '2025-05-02' AND '2025-05-15'\n",
    "\"\"\"\n",
    "\n",
    "num_users = pandahouse.read_clickhouse(q, connection=connection)"
   ]
  },
  {
   "cell_type": "code",
   "execution_count": 29,
   "id": "1e8d0e26-9541-444a-886a-19752868c710",
   "metadata": {},
   "outputs": [
    {
     "data": {
      "text/html": [
       "<div>\n",
       "<style scoped>\n",
       "    .dataframe tbody tr th:only-of-type {\n",
       "        vertical-align: middle;\n",
       "    }\n",
       "\n",
       "    .dataframe tbody tr th {\n",
       "        vertical-align: top;\n",
       "    }\n",
       "\n",
       "    .dataframe thead th {\n",
       "        text-align: right;\n",
       "    }\n",
       "</style>\n",
       "<table border=\"1\" class=\"dataframe\">\n",
       "  <thead>\n",
       "    <tr style=\"text-align: right;\">\n",
       "      <th></th>\n",
       "      <th>uniqExact(user_id)</th>\n",
       "    </tr>\n",
       "  </thead>\n",
       "  <tbody>\n",
       "    <tr>\n",
       "      <th>0</th>\n",
       "      <td>72335</td>\n",
       "    </tr>\n",
       "  </tbody>\n",
       "</table>\n",
       "</div>"
      ],
      "text/plain": [
       "   uniqExact(user_id)\n",
       "0               72335"
      ]
     },
     "execution_count": 29,
     "metadata": {},
     "output_type": "execute_result"
    }
   ],
   "source": [
    "num_users"
   ]
  },
  {
   "cell_type": "markdown",
   "id": "89a80d23-f3f7-4ea7-a16d-cb4ffbddd606",
   "metadata": {},
   "source": [
    "Количество пользователей в группе при разбивании на две в соотношении 50/50:"
   ]
  },
  {
   "cell_type": "code",
   "execution_count": 30,
   "id": "878eef33-2392-4d56-9d2e-2801d3087bf2",
   "metadata": {},
   "outputs": [
    {
     "data": {
      "text/html": [
       "<div>\n",
       "<style scoped>\n",
       "    .dataframe tbody tr th:only-of-type {\n",
       "        vertical-align: middle;\n",
       "    }\n",
       "\n",
       "    .dataframe tbody tr th {\n",
       "        vertical-align: top;\n",
       "    }\n",
       "\n",
       "    .dataframe thead th {\n",
       "        text-align: right;\n",
       "    }\n",
       "</style>\n",
       "<table border=\"1\" class=\"dataframe\">\n",
       "  <thead>\n",
       "    <tr style=\"text-align: right;\">\n",
       "      <th></th>\n",
       "      <th>uniqExact(user_id)</th>\n",
       "    </tr>\n",
       "  </thead>\n",
       "  <tbody>\n",
       "    <tr>\n",
       "      <th>0</th>\n",
       "      <td>36168.0</td>\n",
       "    </tr>\n",
       "  </tbody>\n",
       "</table>\n",
       "</div>"
      ],
      "text/plain": [
       "   uniqExact(user_id)\n",
       "0             36168.0"
      ]
     },
     "execution_count": 30,
     "metadata": {},
     "output_type": "execute_result"
    }
   ],
   "source": [
    "#размер группы должен быть равен:\n",
    "num_group = round((num_users/2), 0)\n",
    "num_group"
   ]
  },
  {
   "cell_type": "markdown",
   "id": "b1163664-204d-492b-9e1b-9f8f81dd6310",
   "metadata": {},
   "source": [
    "Сгенерируем две группы A и B для просмотров и CTR, а также лайков"
   ]
  },
  {
   "cell_type": "markdown",
   "id": "c815875b-2627-4460-ade4-b51ce35da6bd",
   "metadata": {},
   "source": [
    "<b>- Эффект применения нового алгоритма на просмотры мы симитируем следующим образом, соберем из таких частей: \n",
    "1) исходная сгенерированная выборка group_B_views + \n",
    "2) добавим увеличение на 1-2 просмотра: + ((1 + rng.binomial(n=1, p=0.5, size=размер_выборки)) \n",
    "3) учтем p=0.9 - вероятность 90%: * rng.binomial(n=1, p=0.9, size=размер_выборки) \n",
    "4) учтем ограничение, что алгоритм сработает только при более 50 просмотрах: * (group_B_views >= 50))  \n",
    "\n"
   ]
  },
  {
   "cell_type": "markdown",
   "id": "5161762d-f800-4502-88bd-1955fcabfac7",
   "metadata": {},
   "source": [
    "Получаем:\n",
    "\n",
    "group_B_views = group_B_views(исходная) + ((1 + rng.binomial(n=1, p=0.5, size=20998) * rng.binomial(n=1, p=0.9, size=20998) * (group_B_views >= 50))"
   ]
  },
  {
   "cell_type": "markdown",
   "id": "fc85bf47-992f-40e4-97a5-a15cea6e1b20",
   "metadata": {},
   "source": [
    "для likes - симуляции биномиального распределения через двухмерный массив\n",
    "rng.binomial(n, p, size=(количество_симуляций, размер_выборки))"
   ]
  },
  {
   "cell_type": "markdown",
   "id": "937a89a9-4d89-4c3d-a308-8bfe6f115b56",
   "metadata": {},
   "source": [
    "- Количество симуляций задаем 20000"
   ]
  },
  {
   "cell_type": "markdown",
   "id": "a2597272-4ddf-4525-a6b6-e70e04041aed",
   "metadata": {},
   "source": [
    "- Лайки мы будем сравнивать t-тестом с поправкой Уэлча на неравные дисперсии (equal_var=False). Уровень значимости по классике поставим 0.05."
   ]
  },
  {
   "cell_type": "code",
   "execution_count": 31,
   "id": "df4ba3d4",
   "metadata": {},
   "outputs": [
    {
     "name": "stderr",
     "output_type": "stream",
     "text": [
      "100%|██████████| 20000/20000 [08:50<00:00, 37.69it/s]\n"
     ]
    }
   ],
   "source": [
    "# Гарантируем корректность данных\n",
    "ctr_distribution['ctr'] = np.clip(ctr_distribution['ctr'], 0, 1)\n",
    "ctr_distribution = ctr_distribution[ctr_distribution['p'] > 0]\n",
    "ctr_distribution['p'] = ctr_distribution['p'] / ctr_distribution['p'].sum()\n",
    "num_simulations = 20000\n",
    "num_group = 36168\n",
    "p_values = [] #все значения\n",
    "for _ in tqdm(range(num_simulations)):\n",
    "    group_A_views = rng.choice(views_distribution['views'], size=num_group, replace=True, p=views_distribution['p']).astype(np.int64)\n",
    "    group_B_views = rng.choice(views_distribution['views'], size=num_group, replace=True, p=views_distribution['p']).astype(np.int64)\n",
    "    group_B_views = group_B_views + (rng.binomial(n=1, p=0.9, size=num_group) * (1 + rng.binomial(n=1, p=0.5, size=num_group)) *  (group_B_views >= 30))\n",
    "    group_A_ctr = rng.choice(ctr_distribution['ctr'], size=num_group, replace=True, p=ctr_distribution['p'])\n",
    "    group_B_ctr = rng.choice(ctr_distribution['ctr'], size=num_group, replace=True, p=ctr_distribution['p'])\n",
    "    \n",
    "    # Дополнительная проверка (на всякий случай)\n",
    "    assert np.all(group_A_ctr >= 0) and np.all(group_A_ctr <= 1), \"Некорректные значения CTR в группе A\"\n",
    "    assert np.all(group_B_ctr >= 0) and np.all(group_B_ctr <= 1), \"Некорректные значения CTR в группе B\"\n",
    "    \n",
    "    group_A_likes = rng.binomial(group_A_views, group_A_ctr)\n",
    "    group_B_likes = rng.binomial(group_B_views, group_B_ctr)\n",
    "    p_values.append(stats.ttest_ind(group_A_likes, group_B_likes, equal_var=False).pvalue)"
   ]
  },
  {
   "cell_type": "code",
   "execution_count": 32,
   "id": "33334ef3",
   "metadata": {},
   "outputs": [
    {
     "name": "stdout",
     "output_type": "stream",
     "text": [
      "Мощность теста после фильтрации: 59.57%\n",
      "Средний размер группы A после фильтрации: 28147\n",
      "Средний размер группы B после фильтрации: 28221\n"
     ]
    }
   ],
   "source": [
    "mask_a = group_A_views >= 30\n",
    "mask_b = group_B_views >= 30\n",
    "# Расчет мощности (доля p-value < 0.05)\n",
    "power = (np.array(p_values) < 0.05).mean()\n",
    "print(f\"Мощность теста после фильтрации: {power:.2%}\")\n",
    "\n",
    "# Размеры выборок после фильтрации (средние по симуляциям)\n",
    "avg_size_A = np.mean([np.sum(mask_a) for _ in range(num_simulations)])\n",
    "avg_size_B = np.mean([np.sum(mask_b) for _ in range(num_simulations)])\n",
    "print(f\"Средний размер группы A после фильтрации: {avg_size_A:.0f}\")\n",
    "print(f\"Средний размер группы B после фильтрации: {avg_size_B:.0f}\")"
   ]
  },
  {
   "cell_type": "code",
   "execution_count": 33,
   "id": "033d6ca6-0a6b-4b87-afd6-65214eda1677",
   "metadata": {},
   "outputs": [
    {
     "data": {
      "text/plain": [
       "[0.03745408796741274,\n",
       " 0.09765844326468412,\n",
       " 0.04474933443874946,\n",
       " 0.26923380963974824,\n",
       " 0.0014121863624109027]"
      ]
     },
     "execution_count": 33,
     "metadata": {},
     "output_type": "execute_result"
    }
   ],
   "source": [
    "p_values[0:5]"
   ]
  },
  {
   "cell_type": "code",
   "execution_count": 34,
   "id": "326c571c-53a7-457d-8ea5-afef3b975904",
   "metadata": {},
   "outputs": [
    {
     "data": {
      "text/plain": [
       "59.6"
      ]
     },
     "execution_count": 34,
     "metadata": {},
     "output_type": "execute_result"
    }
   ],
   "source": [
    "#мощность теста\n",
    "round((np.mean(np.array(p_values) < 0.05)*100), 1)"
   ]
  },
  {
   "cell_type": "markdown",
   "id": "9b0a9a17-7b2d-485e-befa-fe3966b85efb",
   "metadata": {},
   "source": [
    "мощность теста - это вероятность того, что статистический тест правильно отвергнет нулевую гипотезу (H₀), когда она на самом деле ложная. Иными словами, мощность теста показывает, насколько тест эффективен в выявлении реальных эффектов или различий, если они существуют."
   ]
  },
  {
   "cell_type": "code",
   "execution_count": null,
   "id": "93961a44-27b8-46c5-bcef-7014f7b548d9",
   "metadata": {},
   "outputs": [],
   "source": []
  }
 ],
 "metadata": {
  "kernelspec": {
   "display_name": "Python 3 (ipykernel)",
   "language": "python",
   "name": "python3"
  },
  "language_info": {
   "codemirror_mode": {
    "name": "ipython",
    "version": 3
   },
   "file_extension": ".py",
   "mimetype": "text/x-python",
   "name": "python",
   "nbconvert_exporter": "python",
   "pygments_lexer": "ipython3",
   "version": "3.8.10"
  }
 },
 "nbformat": 4,
 "nbformat_minor": 5
}
